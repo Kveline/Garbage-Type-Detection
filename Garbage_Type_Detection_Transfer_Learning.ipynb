{
  "nbformat": 4,
  "nbformat_minor": 0,
  "metadata": {
    "colab": {
      "provenance": [],
      "gpuType": "T4"
    },
    "kernelspec": {
      "name": "python3",
      "display_name": "Python 3"
    },
    "language_info": {
      "name": "python"
    },
    "accelerator": "GPU"
  },
  "cells": [
    {
      "cell_type": "markdown",
      "source": [
        "## Get the [Data](https://www.kaggle.com/datasets/brsdincer/garbage-collective-data-for-nature-conservation/data)"
      ],
      "metadata": {
        "id": "4n-qAmnWb642"
      }
    },
    {
      "cell_type": "code",
      "execution_count": null,
      "metadata": {
        "id": "V0HRgVBqXKqR",
        "colab": {
          "base_uri": "https://localhost:8080/"
        },
        "outputId": "e56a40ec-e8f4-4130-a08c-ef1f623309ba"
      },
      "outputs": [
        {
          "output_type": "stream",
          "name": "stdout",
          "text": [
            "Mounted at /content/gdrive\n"
          ]
        }
      ],
      "source": [
        "from google.colab import drive\n",
        "drive.mount(\"/content/gdrive\")"
      ]
    },
    {
      "cell_type": "code",
      "source": [
        "!pip install kaggle"
      ],
      "metadata": {
        "colab": {
          "base_uri": "https://localhost:8080/"
        },
        "id": "iyySUvwocRvK",
        "outputId": "cd8d9932-3ca4-47fa-9d47-a60d704ccea0"
      },
      "execution_count": null,
      "outputs": [
        {
          "output_type": "stream",
          "name": "stdout",
          "text": [
            "Requirement already satisfied: kaggle in /usr/local/lib/python3.10/dist-packages (1.5.16)\n",
            "Requirement already satisfied: six>=1.10 in /usr/local/lib/python3.10/dist-packages (from kaggle) (1.16.0)\n",
            "Requirement already satisfied: certifi in /usr/local/lib/python3.10/dist-packages (from kaggle) (2023.7.22)\n",
            "Requirement already satisfied: python-dateutil in /usr/local/lib/python3.10/dist-packages (from kaggle) (2.8.2)\n",
            "Requirement already satisfied: requests in /usr/local/lib/python3.10/dist-packages (from kaggle) (2.31.0)\n",
            "Requirement already satisfied: tqdm in /usr/local/lib/python3.10/dist-packages (from kaggle) (4.66.1)\n",
            "Requirement already satisfied: python-slugify in /usr/local/lib/python3.10/dist-packages (from kaggle) (8.0.1)\n",
            "Requirement already satisfied: urllib3 in /usr/local/lib/python3.10/dist-packages (from kaggle) (2.0.6)\n",
            "Requirement already satisfied: bleach in /usr/local/lib/python3.10/dist-packages (from kaggle) (6.0.0)\n",
            "Requirement already satisfied: webencodings in /usr/local/lib/python3.10/dist-packages (from bleach->kaggle) (0.5.1)\n",
            "Requirement already satisfied: text-unidecode>=1.3 in /usr/local/lib/python3.10/dist-packages (from python-slugify->kaggle) (1.3)\n",
            "Requirement already satisfied: charset-normalizer<4,>=2 in /usr/local/lib/python3.10/dist-packages (from requests->kaggle) (3.3.0)\n",
            "Requirement already satisfied: idna<4,>=2.5 in /usr/local/lib/python3.10/dist-packages (from requests->kaggle) (3.4)\n"
          ]
        }
      ]
    },
    {
      "cell_type": "code",
      "source": [
        "import os\n",
        "os.environ['KAGGLE_CONFIG_DIR'] = \"/content/gdrive/MyDrive/kaggle\""
      ],
      "metadata": {
        "id": "KWXJDgmjcUUM"
      },
      "execution_count": null,
      "outputs": []
    },
    {
      "cell_type": "code",
      "source": [
        "!kaggle datasets download -d brsdincer/garbage-collective-data-for-nature-conservation"
      ],
      "metadata": {
        "colab": {
          "base_uri": "https://localhost:8080/"
        },
        "id": "Eq3Rv0MrceiI",
        "outputId": "478f5492-a02c-464b-98cf-176acf24b409"
      },
      "execution_count": null,
      "outputs": [
        {
          "output_type": "stream",
          "name": "stdout",
          "text": [
            "Downloading garbage-collective-data-for-nature-conservation.zip to /content\n",
            " 96% 233M/243M [00:03<00:00, 81.3MB/s]\n",
            "100% 243M/243M [00:03<00:00, 75.9MB/s]\n"
          ]
        }
      ]
    },
    {
      "cell_type": "code",
      "source": [
        "import zipfile\n",
        "\n",
        "# unzip the data\n",
        "zip_ref = zipfile.ZipFile(\"/content/garbage-collective-data-for-nature-conservation.zip\")\n",
        "zip_ref.extractall()\n",
        "zip_ref.close()"
      ],
      "metadata": {
        "id": "3KCaM8zCcgiG"
      },
      "execution_count": null,
      "outputs": []
    },
    {
      "cell_type": "code",
      "source": [
        "# inspect the data\n",
        "!ls /content/Garbage_Collective_Data\n",
        "garbage_collective_directory = \"/content/Garbage_Collective_Data\""
      ],
      "metadata": {
        "colab": {
          "base_uri": "https://localhost:8080/"
        },
        "id": "FV7iyIdecuo4",
        "outputId": "03a0c3c8-5f6d-47e6-e0b8-4e9234185e7c"
      },
      "execution_count": null,
      "outputs": [
        {
          "output_type": "stream",
          "name": "stdout",
          "text": [
            "battery     brown_glass  clothes      metal  plastic  trash\n",
            "biological  cardboard\t green_glass  paper  shoes    white_glass\n"
          ]
        }
      ]
    },
    {
      "cell_type": "markdown",
      "source": [
        "## Get Class Names"
      ],
      "metadata": {
        "id": "LK9mk5mLc6lt"
      }
    },
    {
      "cell_type": "code",
      "source": [
        "import pathlib\n",
        "import numpy as np\n",
        "\n",
        "data_dir = pathlib.Path(garbage_collective_directory)\n",
        "class_names = np.array(sorted([item.name for item in data_dir.glob(\"*\")]))\n",
        "print(class_names)"
      ],
      "metadata": {
        "colab": {
          "base_uri": "https://localhost:8080/"
        },
        "id": "NgdMU1mac9PF",
        "outputId": "7cb09500-6664-4b13-81d1-d3245ef061c4"
      },
      "execution_count": null,
      "outputs": [
        {
          "output_type": "stream",
          "name": "stdout",
          "text": [
            "['battery' 'biological' 'brown_glass' 'cardboard' 'clothes' 'green_glass'\n",
            " 'metal' 'paper' 'plastic' 'shoes' 'trash' 'white_glass']\n"
          ]
        }
      ]
    },
    {
      "cell_type": "markdown",
      "source": [
        "## Visualize Image"
      ],
      "metadata": {
        "id": "WbnFnaVmdRDD"
      }
    },
    {
      "cell_type": "code",
      "source": [
        "import matplotlib.pyplot as plt\n",
        "import matplotlib.image as mpimg\n",
        "import random\n",
        "\n",
        "def view_random_image(target_dir, target_class):\n",
        "  # setup the target directory\n",
        "  target_folder = target_dir + \"/\" + target_class\n",
        "\n",
        "  # get a random image path\n",
        "  random_image = random.sample(os.listdir(target_folder), 1) # get 1\n",
        "  print(random_image)\n",
        "\n",
        "  # read the image and plot it\n",
        "  img = mpimg.imread(target_folder + \"/\" + random_image[0])\n",
        "  plt.imshow(img)\n",
        "  plt.title(target_class)\n",
        "  plt.axis(\"off\")\n",
        "\n",
        "  print(f\"Image Shape: {img.shape}\")\n",
        "  return img"
      ],
      "metadata": {
        "id": "_R_BMcfddSYA"
      },
      "execution_count": null,
      "outputs": []
    },
    {
      "cell_type": "code",
      "source": [
        "# visualize\n",
        "import random\n",
        "\n",
        "img = view_random_image(target_dir = garbage_collective_directory,\n",
        "                        target_class = random.choice(class_names))"
      ],
      "metadata": {
        "colab": {
          "base_uri": "https://localhost:8080/",
          "height": 424
        },
        "id": "3VU6Z-T4e768",
        "outputId": "859931a3-917b-4540-919e-3b8341ee37db"
      },
      "execution_count": null,
      "outputs": [
        {
          "output_type": "stream",
          "name": "stdout",
          "text": [
            "['cardboard776.jpg']\n",
            "Image Shape: (160, 241, 3)\n"
          ]
        },
        {
          "output_type": "display_data",
          "data": {
            "text/plain": [
              "<Figure size 640x480 with 1 Axes>"
            ],
            "image/png": "[encoded data removed]"
          },
          "metadata": {}
        }
      ]
    },
    {
      "cell_type": "markdown",
      "source": [
        "## Preprocess the data"
      ],
      "metadata": {
        "id": "kiPbv9tNgRgf"
      }
    },
    {
      "cell_type": "code",
      "source": [
        "# setup data inputs\n",
        "import tensorflow as tf\n",
        "from tensorflow.keras.preprocessing.image import ImageDataGenerator\n",
        "\n",
        "IMG_SIZE = (224, 224)\n",
        "\n",
        "train_datagen = ImageDataGenerator(validation_split = 0.2) # set validation data split\n",
        "\n",
        "# load dataset\n",
        "train_data = train_datagen.flow_from_directory(garbage_collective_directory,\n",
        "                                               target_size = IMG_SIZE,\n",
        "                                               batch_size = 32,\n",
        "                                               class_mode = \"categorical\",\n",
        "                                               subset = \"training\") # set as training data\n",
        "\n",
        "test_data = train_datagen.flow_from_directory(garbage_collective_directory,\n",
        "                                              target_size = IMG_SIZE,\n",
        "                                              batch_size = 32,\n",
        "                                              class_mode = \"categorical\",\n",
        "                                              shuffle = False,\n",
        "                                              subset = \"validation\") # set as test data"
      ],
      "metadata": {
        "colab": {
          "base_uri": "https://localhost:8080/"
        },
        "id": "8SQrhXAUgWZt",
        "outputId": "40519b28-8a74-4f83-a23d-cce629de6ab9"
      },
      "execution_count": null,
      "outputs": [
        {
          "output_type": "stream",
          "name": "stdout",
          "text": [
            "Found 12480 images belonging to 12 classes.\n",
            "Found 3116 images belonging to 12 classes.\n"
          ]
        }
      ]
    },
    {
      "cell_type": "markdown",
      "source": [
        "## Checkpoint callback"
      ],
      "metadata": {
        "id": "-oFdyTx2hw8v"
      }
    },
    {
      "cell_type": "code",
      "source": [
        "checkpoint_path = \"garbage_model_checkpoint/\"\n",
        "checkpoint_callback = tf.keras.callbacks.ModelCheckpoint(filepath = checkpoint_path,\n",
        "                                                         save_weights_only = True,\n",
        "                                                         monitor = \"val_accuracy\",\n",
        "                                                         save_best_only = True)"
      ],
      "metadata": {
        "id": "dxHIJnlehi55"
      },
      "execution_count": null,
      "outputs": []
    },
    {
      "cell_type": "markdown",
      "source": [
        "## Create Data Augmentation Layer"
      ],
      "metadata": {
        "id": "5c4UkQqPiMTW"
      }
    },
    {
      "cell_type": "code",
      "source": [
        "from tensorflow.keras import layers\n",
        "from tensorflow.keras.layers.experimental import preprocessing\n",
        "from tensorflow.keras.models import Sequential\n",
        "\n",
        "# setup data augmentation\n",
        "data_augmentation = Sequential([\n",
        "    preprocessing.RandomFlip(\"horizontal\"),\n",
        "    preprocessing.RandomRotation(0.2),\n",
        "    preprocessing.RandomHeight(0.2),\n",
        "    preprocessing.RandomWidth(0.2),\n",
        "    preprocessing.RandomZoom(0.2),\n",
        "    preprocessing.Rescaling(1/255.)\n",
        "], name = \"data_augmentation\")"
      ],
      "metadata": {
        "id": "Uo6zTs1giJ5h"
      },
      "execution_count": null,
      "outputs": []
    },
    {
      "cell_type": "markdown",
      "source": [
        "## Setup the base model and Freeze its layers (this will extract features)"
      ],
      "metadata": {
        "id": "a10P05PWjAh7"
      }
    },
    {
      "cell_type": "code",
      "source": [
        "base_model = tf.keras.applications.ResNet50V2(include_top = False)\n",
        "base_model.trainable = False\n",
        "\n",
        "# Setup model architecture with trainable top layers\n",
        "inputs = layers.Input(shape = (224, 224, 3), name = \"input_layer\")\n",
        "x = data_augmentation(inputs)\n",
        "x = base_model(x, training = False) # training = False means, model's weights stay frozen\n",
        "x = layers.GlobalAveragePooling2D(name = \"global_avg_pooling_layer\")(x)\n",
        "\n",
        "outputs = layers.Dense(len(class_names), activation = \"softmax\", name = \"output_layer\")(x)\n",
        "model = tf.keras.Model(inputs, outputs)"
      ],
      "metadata": {
        "colab": {
          "base_uri": "https://localhost:8080/"
        },
        "id": "TUPUDoLhjADN",
        "outputId": "7c0b7b29-9294-45b4-ce04-411483868048"
      },
      "execution_count": null,
      "outputs": [
        {
          "output_type": "stream",
          "name": "stdout",
          "text": [
            "Downloading data from https://storage.googleapis.com/tensorflow/keras-applications/resnet/resnet50v2_weights_tf_dim_ordering_tf_kernels_notop.h5\n",
            "94668760/94668760 [==============================] - 2s 0us/step\n"
          ]
        }
      ]
    },
    {
      "cell_type": "code",
      "source": [
        "model.summary()"
      ],
      "metadata": {
        "colab": {
          "base_uri": "https://localhost:8080/"
        },
        "id": "yCLZ0T-nktYY",
        "outputId": "18665dd1-7376-4033-ef2c-190bc77e433a"
      },
      "execution_count": null,
      "outputs": [
        {
          "output_type": "stream",
          "name": "stdout",
          "text": [
            "Model: \"model\"\n",
            "_________________________________________________________________\n",
            " Layer (type)                Output Shape              Param #   \n",
            "=================================================================\n",
            " input_layer (InputLayer)    [(None, 224, 224, 3)]     0         \n",
            "                                                                 \n",
            " data_augmentation (Sequent  (None, None, None, 3)     0         \n",
            " ial)                                                            \n",
            "                                                                 \n",
            " resnet50v2 (Functional)     (None, None, None, 2048   23564800  \n",
            "                             )                                   \n",
            "                                                                 \n",
            " global_avg_pooling_layer (  (None, 2048)              0         \n",
            " GlobalAveragePooling2D)                                         \n",
            "                                                                 \n",
            " output_layer (Dense)        (None, 12)                24588     \n",
            "                                                                 \n",
            "=================================================================\n",
            "Total params: 23589388 (89.99 MB)\n",
            "Trainable params: 24588 (96.05 KB)\n",
            "Non-trainable params: 23564800 (89.89 MB)\n",
            "_________________________________________________________________\n"
          ]
        }
      ]
    },
    {
      "cell_type": "code",
      "source": [
        "# compile model\n",
        "model.compile(loss = \"categorical_crossentropy\",\n",
        "              optimizer = tf.keras.optimizers.Adam(),\n",
        "              metrics = [\"accuracy\"])"
      ],
      "metadata": {
        "id": "bskbaJEtkxBN"
      },
      "execution_count": null,
      "outputs": []
    },
    {
      "cell_type": "code",
      "source": [
        "# fit the model\n",
        "history = model.fit(train_data,\n",
        "                    epochs = 10,\n",
        "                    validation_data = test_data,\n",
        "                    validation_steps = int(0.15 * len(test_data)),\n",
        "                    callbacks = [checkpoint_callback])\n"
      ],
      "metadata": {
        "colab": {
          "base_uri": "https://localhost:8080/"
        },
        "id": "4qcHBG7Gk9hk",
        "outputId": "ddc5a77c-fc1a-464c-ab68-0a7801a2001a"
      },
      "execution_count": null,
      "outputs": [
        {
          "output_type": "stream",
          "name": "stdout",
          "text": [
            "Epoch 1/10\n",
            "390/390 [==============================] - 241s 576ms/step - loss: 0.5730 - accuracy: 0.8230 - val_loss: 0.3180 - val_accuracy: 0.8862\n",
            "Epoch 2/10\n",
            "390/390 [==============================] - 121s 309ms/step - loss: 0.3402 - accuracy: 0.8906 - val_loss: 0.2630 - val_accuracy: 0.9129\n",
            "Epoch 3/10\n",
            "390/390 [==============================] - 97s 247ms/step - loss: 0.2956 - accuracy: 0.9030 - val_loss: 0.2075 - val_accuracy: 0.9375\n",
            "Epoch 4/10\n",
            "390/390 [==============================] - 86s 221ms/step - loss: 0.2627 - accuracy: 0.9155 - val_loss: 0.2049 - val_accuracy: 0.9397\n",
            "Epoch 5/10\n",
            "390/390 [==============================] - 83s 213ms/step - loss: 0.2483 - accuracy: 0.9203 - val_loss: 0.2844 - val_accuracy: 0.9152\n",
            "Epoch 6/10\n",
            "390/390 [==============================] - 75s 192ms/step - loss: 0.2270 - accuracy: 0.9260 - val_loss: 0.1700 - val_accuracy: 0.9375\n",
            "Epoch 7/10\n",
            "390/390 [==============================] - 74s 190ms/step - loss: 0.2231 - accuracy: 0.9264 - val_loss: 0.1831 - val_accuracy: 0.9420\n",
            "Epoch 8/10\n",
            "390/390 [==============================] - 72s 184ms/step - loss: 0.2171 - accuracy: 0.9261 - val_loss: 0.2160 - val_accuracy: 0.9308\n",
            "Epoch 9/10\n",
            "390/390 [==============================] - 70s 179ms/step - loss: 0.2007 - accuracy: 0.9323 - val_loss: 0.2235 - val_accuracy: 0.9375\n",
            "Epoch 10/10\n",
            "390/390 [==============================] - 69s 175ms/step - loss: 0.1922 - accuracy: 0.9345 - val_loss: 0.3953 - val_accuracy: 0.8549\n"
          ]
        }
      ]
    },
    {
      "cell_type": "code",
      "source": [
        "model.load_weights(checkpoint_path)"
      ],
      "metadata": {
        "colab": {
          "base_uri": "https://localhost:8080/"
        },
        "id": "zq2G7fsbq3vu",
        "outputId": "fa8c4a18-a05d-4180-bbee-6f513fe842d5"
      },
      "execution_count": null,
      "outputs": [
        {
          "output_type": "execute_result",
          "data": {
            "text/plain": [
              "<tensorflow.python.checkpoint.checkpoint.CheckpointLoadStatus at 0x7c1442577280>"
            ]
          },
          "metadata": {},
          "execution_count": 17
        }
      ]
    },
    {
      "cell_type": "code",
      "source": [
        "model.evaluate(test_data)"
      ],
      "metadata": {
        "colab": {
          "base_uri": "https://localhost:8080/"
        },
        "id": "7FVg2e4Dp2zC",
        "outputId": "73fd32ea-7234-4382-8c84-fcb365b475fa"
      },
      "execution_count": null,
      "outputs": [
        {
          "output_type": "stream",
          "name": "stdout",
          "text": [
            "98/98 [==============================] - 11s 114ms/step - loss: 0.3491 - accuracy: 0.8944\n"
          ]
        },
        {
          "output_type": "execute_result",
          "data": {
            "text/plain": [
              "[0.349138081073761, 0.8944159150123596]"
            ]
          },
          "metadata": {},
          "execution_count": 18
        }
      ]
    },
    {
      "cell_type": "markdown",
      "source": [
        "## Save Model"
      ],
      "metadata": {
        "id": "ORa2nsIxOw1A"
      }
    },
    {
      "cell_type": "code",
      "source": [
        "save_dir = \"resnet50_garbage_type_detection\"\n",
        "model.save(save_dir)"
      ],
      "metadata": {
        "id": "NXhj2aOLOy0V"
      },
      "execution_count": null,
      "outputs": []
    },
    {
      "cell_type": "markdown",
      "source": [
        "## Loaded the Saved Model"
      ],
      "metadata": {
        "id": "rl2mh7O-PIDK"
      }
    },
    {
      "cell_type": "code",
      "source": [
        "loaded_saved_model = tf.keras.models.load_model(save_dir)"
      ],
      "metadata": {
        "id": "2sGKbVogPK-8"
      },
      "execution_count": null,
      "outputs": []
    },
    {
      "cell_type": "code",
      "source": [
        "loaded_saved_model.evaluate(test_data)"
      ],
      "metadata": {
        "colab": {
          "base_uri": "https://localhost:8080/"
        },
        "id": "zju54nYpPR7P",
        "outputId": "6395d4bc-f20b-433b-b813-b91e34a431e7"
      },
      "execution_count": null,
      "outputs": [
        {
          "output_type": "stream",
          "name": "stdout",
          "text": [
            "98/98 [==============================] - 11s 99ms/step - loss: 0.3491 - accuracy: 0.8944\n"
          ]
        },
        {
          "output_type": "execute_result",
          "data": {
            "text/plain": [
              "[0.349138081073761, 0.8944159150123596]"
            ]
          },
          "metadata": {},
          "execution_count": 21
        }
      ]
    },
    {
      "cell_type": "markdown",
      "source": [
        "## Fine-tuning"
      ],
      "metadata": {
        "id": "x_TbrAy3PWfQ"
      }
    },
    {
      "cell_type": "code",
      "source": [
        "# unfreeze all the layers in the base model\n",
        "base_model.trainable = True\n",
        "\n",
        "# refrezee every layer except the last five (it is an experiment)\n",
        "for layer in base_model.layers[:-5]:\n",
        "  layer.trainable = False"
      ],
      "metadata": {
        "id": "QK-PXnIqBp5w"
      },
      "execution_count": null,
      "outputs": []
    },
    {
      "cell_type": "code",
      "source": [
        "# recompile the model with lower learning rate (best practice in fine-tuning)\n",
        "model.compile(loss = \"categorical_crossentropy\",\n",
        "              optimizer = tf.keras.optimizers.Adam(learning_rate = 0.0001), # learning rate lowered by 10x\n",
        "              metrics = [\"accuracy\"])"
      ],
      "metadata": {
        "id": "MQjzOC5kB8ns"
      },
      "execution_count": null,
      "outputs": []
    },
    {
      "cell_type": "code",
      "source": [
        "# check the layers in our model\n",
        "for layer in model.layers:\n",
        "  print(layer.name, layer.trainable)"
      ],
      "metadata": {
        "colab": {
          "base_uri": "https://localhost:8080/"
        },
        "id": "mMLI7tgZCWbE",
        "outputId": "5f661117-1930-4bcb-ad28-ded0a11ce5a5"
      },
      "execution_count": null,
      "outputs": [
        {
          "output_type": "stream",
          "name": "stdout",
          "text": [
            "input_layer True\n",
            "data_augmentation True\n",
            "resnet50v2 True\n",
            "global_avg_pooling_layer True\n",
            "output_layer True\n"
          ]
        }
      ]
    },
    {
      "cell_type": "code",
      "source": [
        "# check the layers in our base model\n",
        "for layer_number, layer in enumerate(model.layers[2].layers):\n",
        "  print(layer_number, layer.name, layer.trainable)"
      ],
      "metadata": {
        "colab": {
          "base_uri": "https://localhost:8080/"
        },
        "id": "TECjFXomCere",
        "outputId": "4725a486-c0bd-48a7-de22-7d58b76b70b8"
      },
      "execution_count": null,
      "outputs": [
        {
          "output_type": "stream",
          "name": "stdout",
          "text": [
            "0 input_1 False\n",
            "1 conv1_pad False\n",
            "2 conv1_conv False\n",
            "3 pool1_pad False\n",
            "4 pool1_pool False\n",
            "5 conv2_block1_preact_bn False\n",
            "6 conv2_block1_preact_relu False\n",
            "7 conv2_block1_1_conv False\n",
            "8 conv2_block1_1_bn False\n",
            "9 conv2_block1_1_relu False\n",
            "10 conv2_block1_2_pad False\n",
            "11 conv2_block1_2_conv False\n",
            "12 conv2_block1_2_bn False\n",
            "13 conv2_block1_2_relu False\n",
            "14 conv2_block1_0_conv False\n",
            "15 conv2_block1_3_conv False\n",
            "16 conv2_block1_out False\n",
            "17 conv2_block2_preact_bn False\n",
            "18 conv2_block2_preact_relu False\n",
            "19 conv2_block2_1_conv False\n",
            "20 conv2_block2_1_bn False\n",
            "21 conv2_block2_1_relu False\n",
            "22 conv2_block2_2_pad False\n",
            "23 conv2_block2_2_conv False\n",
            "24 conv2_block2_2_bn False\n",
            "25 conv2_block2_2_relu False\n",
            "26 conv2_block2_3_conv False\n",
            "27 conv2_block2_out False\n",
            "28 conv2_block3_preact_bn False\n",
            "29 conv2_block3_preact_relu False\n",
            "30 conv2_block3_1_conv False\n",
            "31 conv2_block3_1_bn False\n",
            "32 conv2_block3_1_relu False\n",
            "33 conv2_block3_2_pad False\n",
            "34 conv2_block3_2_conv False\n",
            "35 conv2_block3_2_bn False\n",
            "36 conv2_block3_2_relu False\n",
            "37 max_pooling2d False\n",
            "38 conv2_block3_3_conv False\n",
            "39 conv2_block3_out False\n",
            "40 conv3_block1_preact_bn False\n",
            "41 conv3_block1_preact_relu False\n",
            "42 conv3_block1_1_conv False\n",
            "43 conv3_block1_1_bn False\n",
            "44 conv3_block1_1_relu False\n",
            "45 conv3_block1_2_pad False\n",
            "46 conv3_block1_2_conv False\n",
            "47 conv3_block1_2_bn False\n",
            "48 conv3_block1_2_relu False\n",
            "49 conv3_block1_0_conv False\n",
            "50 conv3_block1_3_conv False\n",
            "51 conv3_block1_out False\n",
            "52 conv3_block2_preact_bn False\n",
            "53 conv3_block2_preact_relu False\n",
            "54 conv3_block2_1_conv False\n",
            "55 conv3_block2_1_bn False\n",
            "56 conv3_block2_1_relu False\n",
            "57 conv3_block2_2_pad False\n",
            "58 conv3_block2_2_conv False\n",
            "59 conv3_block2_2_bn False\n",
            "60 conv3_block2_2_relu False\n",
            "61 conv3_block2_3_conv False\n",
            "62 conv3_block2_out False\n",
            "63 conv3_block3_preact_bn False\n",
            "64 conv3_block3_preact_relu False\n",
            "65 conv3_block3_1_conv False\n",
            "66 conv3_block3_1_bn False\n",
            "67 conv3_block3_1_relu False\n",
            "68 conv3_block3_2_pad False\n",
            "69 conv3_block3_2_conv False\n",
            "70 conv3_block3_2_bn False\n",
            "71 conv3_block3_2_relu False\n",
            "72 conv3_block3_3_conv False\n",
            "73 conv3_block3_out False\n",
            "74 conv3_block4_preact_bn False\n",
            "75 conv3_block4_preact_relu False\n",
            "76 conv3_block4_1_conv False\n",
            "77 conv3_block4_1_bn False\n",
            "78 conv3_block4_1_relu False\n",
            "79 conv3_block4_2_pad False\n",
            "80 conv3_block4_2_conv False\n",
            "81 conv3_block4_2_bn False\n",
            "82 conv3_block4_2_relu False\n",
            "83 max_pooling2d_1 False\n",
            "84 conv3_block4_3_conv False\n",
            "85 conv3_block4_out False\n",
            "86 conv4_block1_preact_bn False\n",
            "87 conv4_block1_preact_relu False\n",
            "88 conv4_block1_1_conv False\n",
            "89 conv4_block1_1_bn False\n",
            "90 conv4_block1_1_relu False\n",
            "91 conv4_block1_2_pad False\n",
            "92 conv4_block1_2_conv False\n",
            "93 conv4_block1_2_bn False\n",
            "94 conv4_block1_2_relu False\n",
            "95 conv4_block1_0_conv False\n",
            "96 conv4_block1_3_conv False\n",
            "97 conv4_block1_out False\n",
            "98 conv4_block2_preact_bn False\n",
            "99 conv4_block2_preact_relu False\n",
            "100 conv4_block2_1_conv False\n",
            "101 conv4_block2_1_bn False\n",
            "102 conv4_block2_1_relu False\n",
            "103 conv4_block2_2_pad False\n",
            "104 conv4_block2_2_conv False\n",
            "105 conv4_block2_2_bn False\n",
            "106 conv4_block2_2_relu False\n",
            "107 conv4_block2_3_conv False\n",
            "108 conv4_block2_out False\n",
            "109 conv4_block3_preact_bn False\n",
            "110 conv4_block3_preact_relu False\n",
            "111 conv4_block3_1_conv False\n",
            "112 conv4_block3_1_bn False\n",
            "113 conv4_block3_1_relu False\n",
            "114 conv4_block3_2_pad False\n",
            "115 conv4_block3_2_conv False\n",
            "116 conv4_block3_2_bn False\n",
            "117 conv4_block3_2_relu False\n",
            "118 conv4_block3_3_conv False\n",
            "119 conv4_block3_out False\n",
            "120 conv4_block4_preact_bn False\n",
            "121 conv4_block4_preact_relu False\n",
            "122 conv4_block4_1_conv False\n",
            "123 conv4_block4_1_bn False\n",
            "124 conv4_block4_1_relu False\n",
            "125 conv4_block4_2_pad False\n",
            "126 conv4_block4_2_conv False\n",
            "127 conv4_block4_2_bn False\n",
            "128 conv4_block4_2_relu False\n",
            "129 conv4_block4_3_conv False\n",
            "130 conv4_block4_out False\n",
            "131 conv4_block5_preact_bn False\n",
            "132 conv4_block5_preact_relu False\n",
            "133 conv4_block5_1_conv False\n",
            "134 conv4_block5_1_bn False\n",
            "135 conv4_block5_1_relu False\n",
            "136 conv4_block5_2_pad False\n",
            "137 conv4_block5_2_conv False\n",
            "138 conv4_block5_2_bn False\n",
            "139 conv4_block5_2_relu False\n",
            "140 conv4_block5_3_conv False\n",
            "141 conv4_block5_out False\n",
            "142 conv4_block6_preact_bn False\n",
            "143 conv4_block6_preact_relu False\n",
            "144 conv4_block6_1_conv False\n",
            "145 conv4_block6_1_bn False\n",
            "146 conv4_block6_1_relu False\n",
            "147 conv4_block6_2_pad False\n",
            "148 conv4_block6_2_conv False\n",
            "149 conv4_block6_2_bn False\n",
            "150 conv4_block6_2_relu False\n",
            "151 max_pooling2d_2 False\n",
            "152 conv4_block6_3_conv False\n",
            "153 conv4_block6_out False\n",
            "154 conv5_block1_preact_bn False\n",
            "155 conv5_block1_preact_relu False\n",
            "156 conv5_block1_1_conv False\n",
            "157 conv5_block1_1_bn False\n",
            "158 conv5_block1_1_relu False\n",
            "159 conv5_block1_2_pad False\n",
            "160 conv5_block1_2_conv False\n",
            "161 conv5_block1_2_bn False\n",
            "162 conv5_block1_2_relu False\n",
            "163 conv5_block1_0_conv False\n",
            "164 conv5_block1_3_conv False\n",
            "165 conv5_block1_out False\n",
            "166 conv5_block2_preact_bn False\n",
            "167 conv5_block2_preact_relu False\n",
            "168 conv5_block2_1_conv False\n",
            "169 conv5_block2_1_bn False\n",
            "170 conv5_block2_1_relu False\n",
            "171 conv5_block2_2_pad False\n",
            "172 conv5_block2_2_conv False\n",
            "173 conv5_block2_2_bn False\n",
            "174 conv5_block2_2_relu False\n",
            "175 conv5_block2_3_conv False\n",
            "176 conv5_block2_out False\n",
            "177 conv5_block3_preact_bn False\n",
            "178 conv5_block3_preact_relu False\n",
            "179 conv5_block3_1_conv False\n",
            "180 conv5_block3_1_bn False\n",
            "181 conv5_block3_1_relu False\n",
            "182 conv5_block3_2_pad False\n",
            "183 conv5_block3_2_conv False\n",
            "184 conv5_block3_2_bn False\n",
            "185 conv5_block3_2_relu True\n",
            "186 conv5_block3_3_conv True\n",
            "187 conv5_block3_out True\n",
            "188 post_bn True\n",
            "189 post_relu True\n"
          ]
        }
      ]
    },
    {
      "cell_type": "code",
      "source": [
        "history.epoch[-1]"
      ],
      "metadata": {
        "colab": {
          "base_uri": "https://localhost:8080/"
        },
        "id": "C3igCRIdDmuV",
        "outputId": "37fe328b-491e-4e98-97b8-b95d31c45394"
      },
      "execution_count": null,
      "outputs": [
        {
          "output_type": "execute_result",
          "data": {
            "text/plain": [
              "9"
            ]
          },
          "metadata": {},
          "execution_count": 35
        }
      ]
    },
    {
      "cell_type": "markdown",
      "source": [
        "## Callback for fine-tuning"
      ],
      "metadata": {
        "id": "oitkk1xBz9lm"
      }
    },
    {
      "cell_type": "code",
      "source": [
        "checkpoint_path_fine_tuned = \"garbage_model_checkpoint_finetuned/\"\n",
        "checkpoint_callback_fine_tuned = tf.keras.callbacks.ModelCheckpoint(filepath = checkpoint_path_fine_tuned,\n",
        "                                                         save_weights_only = True,\n",
        "                                                         monitor = \"val_accuracy\",\n",
        "                                                         save_best_only = True)"
      ],
      "metadata": {
        "id": "p5gfReV70BmR"
      },
      "execution_count": null,
      "outputs": []
    },
    {
      "cell_type": "code",
      "source": [
        "# fine-tune for 5 more epochs\n",
        "fine_tune_epochs = 15 # model has already done 10 epochs (feature extraction), this is the total number of epochs we are after (10 feature extraction + 5 for fine-tune = 15)\n",
        "\n",
        "# fine tune\n",
        "history_fine_tune = model.fit(train_data,\n",
        "                              epochs = fine_tune_epochs,\n",
        "                              validation_data = test_data,\n",
        "                              validation_steps = int(0.15 * len(test_data)),\n",
        "                              initial_epoch = history.epoch[-1],\n",
        "                              callbacks = [checkpoint_callback_fine_tuned])"
      ],
      "metadata": {
        "colab": {
          "base_uri": "https://localhost:8080/"
        },
        "id": "0W2xPNeSDS76",
        "outputId": "056b8448-ce75-431c-e422-88e106da1fd5"
      },
      "execution_count": null,
      "outputs": [
        {
          "output_type": "stream",
          "name": "stdout",
          "text": [
            "Epoch 10/15\n",
            "390/390 [==============================] - 67s 159ms/step - loss: 0.1145 - accuracy: 0.9628 - val_loss: 0.2105 - val_accuracy: 0.9241\n",
            "Epoch 11/15\n",
            "390/390 [==============================] - 60s 153ms/step - loss: 0.1014 - accuracy: 0.9663 - val_loss: 0.2167 - val_accuracy: 0.9174\n",
            "Epoch 12/15\n",
            "390/390 [==============================] - 60s 153ms/step - loss: 0.0939 - accuracy: 0.9688 - val_loss: 0.2664 - val_accuracy: 0.9062\n",
            "Epoch 13/15\n",
            "390/390 [==============================] - 57s 147ms/step - loss: 0.0930 - accuracy: 0.9689 - val_loss: 0.2352 - val_accuracy: 0.9152\n",
            "Epoch 14/15\n",
            "390/390 [==============================] - 58s 148ms/step - loss: 0.0754 - accuracy: 0.9761 - val_loss: 0.2040 - val_accuracy: 0.9330\n",
            "Epoch 15/15\n",
            "390/390 [==============================] - 60s 153ms/step - loss: 0.0753 - accuracy: 0.9751 - val_loss: 0.1282 - val_accuracy: 0.9576\n"
          ]
        }
      ]
    },
    {
      "cell_type": "code",
      "source": [
        "# evaluate the fine tuned model\n",
        "fine_tune_results = model.evaluate(test_data)\n",
        "fine_tune_results"
      ],
      "metadata": {
        "colab": {
          "base_uri": "https://localhost:8080/"
        },
        "id": "nKwlyHLQD7t3",
        "outputId": "08b480ff-2da4-42df-9645-1222d1cb9e19"
      },
      "execution_count": null,
      "outputs": [
        {
          "output_type": "stream",
          "name": "stdout",
          "text": [
            "98/98 [==============================] - 11s 109ms/step - loss: 0.3187 - accuracy: 0.9175\n"
          ]
        },
        {
          "output_type": "execute_result",
          "data": {
            "text/plain": [
              "[0.31866899132728577, 0.9175224900245667]"
            ]
          },
          "metadata": {},
          "execution_count": 38
        }
      ]
    },
    {
      "cell_type": "code",
      "source": [
        "model.load_weights(checkpoint_path_fine_tuned)\n",
        "model.evaluate(test_data)"
      ],
      "metadata": {
        "colab": {
          "base_uri": "https://localhost:8080/"
        },
        "id": "_Z7A5rm-7pmR",
        "outputId": "cfecae16-f766-44c1-87dc-2cc33d429e9a"
      },
      "execution_count": null,
      "outputs": [
        {
          "output_type": "stream",
          "name": "stdout",
          "text": [
            "98/98 [==============================] - 10s 98ms/step - loss: 0.3187 - accuracy: 0.9175\n"
          ]
        },
        {
          "output_type": "execute_result",
          "data": {
            "text/plain": [
              "[0.31866899132728577, 0.9175224900245667]"
            ]
          },
          "metadata": {},
          "execution_count": 39
        }
      ]
    }
  ]
}